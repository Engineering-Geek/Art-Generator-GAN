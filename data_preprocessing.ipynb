{
 "cells": [
  {
   "cell_type": "code",
   "execution_count": 1,
   "outputs": [],
   "source": [
    "import shutterstock_api as ss\n",
    "import yaml"
   ],
   "metadata": {
    "collapsed": false,
    "pycharm": {
     "name": "#%%\n"
    }
   }
  },
  {
   "cell_type": "code",
   "execution_count": 2,
   "outputs": [],
   "source": [
    "doc = yaml.safe_load(open(\"data.yaml\", \"r\"))\n",
    "# Configure OAuth2 access token for authorization: customer_accessCode\n",
    "configuration = ss.Configuration()\n",
    "configuration.access_token = doc[\"ShutterStock\"][\"Token\"]\n",
    "configuration."
   ],
   "metadata": {
    "collapsed": false,
    "pycharm": {
     "name": "#%%\n"
    }
   }
  },
  {
   "cell_type": "code",
   "execution_count": 4,
   "outputs": [],
   "source": [
    "api = ss.ImagesApi(ss.ApiClient(configuration=configuration))"
   ],
   "metadata": {
    "collapsed": false,
    "pycharm": {
     "name": "#%%\n"
    }
   }
  },
  {
   "cell_type": "code",
   "execution_count": 5,
   "outputs": [
    {
     "data": {
      "text/plain": "{'data': [{'id': '26', 'name': 'Abstract'},\n          {'id': '1', 'name': 'Animals/Wildlife'},\n          {'id': '11', 'name': 'The Arts'},\n          {'id': '3', 'name': 'Backgrounds/Textures'},\n          {'id': '27', 'name': 'Beauty/Fashion'},\n          {'id': '2', 'name': 'Buildings/Landmarks'},\n          {'id': '4', 'name': 'Business/Finance'},\n          {'id': '5', 'name': 'Education'},\n          {'id': '6', 'name': 'Food and Drink'},\n          {'id': '7', 'name': 'Healthcare/Medical'},\n          {'id': '8', 'name': 'Holidays'},\n          {'id': '10', 'name': 'Industrial'},\n          {'id': '21', 'name': 'Interiors'},\n          {'id': '22', 'name': 'Miscellaneous'},\n          {'id': '12', 'name': 'Nature'},\n          {'id': '9', 'name': 'Objects'},\n          {'id': '25', 'name': 'Parks/Outdoor'},\n          {'id': '13', 'name': 'People'},\n          {'id': '14', 'name': 'Religion'},\n          {'id': '15', 'name': 'Science'},\n          {'id': '17', 'name': 'Signs/Symbols'},\n          {'id': '18', 'name': 'Sports/Recreation'},\n          {'id': '16', 'name': 'Technology'},\n          {'id': '0', 'name': 'Transportation'},\n          {'id': '24', 'name': 'Vintage'}],\n 'errors': None,\n 'message': None,\n 'page': None,\n 'per_page': None,\n 'total_count': None}"
     },
     "execution_count": 5,
     "metadata": {},
     "output_type": "execute_result"
    }
   ],
   "source": [
    "api.get_image_categories()"
   ],
   "metadata": {
    "collapsed": false,
    "pycharm": {
     "name": "#%%\n"
    }
   }
  },
  {
   "cell_type": "code",
   "execution_count": 8,
   "outputs": [],
   "source": [
    "imgs = api.get_image_recommendations([\"11\"])"
   ],
   "metadata": {
    "collapsed": false,
    "pycharm": {
     "name": "#%%\n"
    }
   }
  },
  {
   "cell_type": "code",
   "execution_count": 9,
   "outputs": [
    {
     "data": {
      "text/plain": "{'data': [{'id': '17'},\n          {'id': '54537493'},\n          {'id': '644559838'},\n          {'id': '642198808'},\n          {'id': '625864232'},\n          {'id': '753599443'},\n          {'id': '753033625'},\n          {'id': '9626596'},\n          {'id': '218856724'},\n          {'id': '590271863'},\n          {'id': '578469637'},\n          {'id': '582965530'},\n          {'id': '687617656'},\n          {'id': '353449025'},\n          {'id': '679373581'},\n          {'id': '47'},\n          {'id': '420650866'},\n          {'id': '308593475'},\n          {'id': '644748340'},\n          {'id': '578467924'}],\n 'errors': None,\n 'message': None,\n 'page': None,\n 'per_page': None,\n 'total_count': None}"
     },
     "execution_count": 9,
     "metadata": {},
     "output_type": "execute_result"
    }
   ],
   "source": [
    "imgs"
   ],
   "metadata": {
    "collapsed": false,
    "pycharm": {
     "name": "#%%\n"
    }
   }
  },
  {
   "cell_type": "code",
   "execution_count": 16,
   "outputs": [],
   "source": [
    "x = imgs.data[1]"
   ],
   "metadata": {
    "collapsed": false,
    "pycharm": {
     "name": "#%%\n"
    }
   }
  },
  {
   "cell_type": "code",
   "execution_count": 24,
   "outputs": [
    {
     "ename": "ApiException",
     "evalue": "(404)\nReason: Not Found\nHTTP response headers: HTTPHeaderDict({'Date': 'Fri, 09 Oct 2020 01:10:32 GMT', 'Content-Type': 'application/json; charset=utf8', 'Content-Length': '23', 'Connection': 'keep-alive', 'cache-control': 'no-cache', 'x-shutterstock-app-version': 'apitwo', 'x-shutterstock-resource': '/v2/images/:id', 'x-end-user-client-id': 'ZuIrW2JouRTPdhV4XE44GXeXUpF2DDZc', 'x-end-user-request-id': 'rrt-021d87f99c91a7c33-c-ea-18488-19444965-3', 'x-request-id': 'rrt-021d87f99c91a7c33-c-ea-18488-19444965-3', 'x-end-user-user-id': '282816453'})\nHTTP response body: {\"message\":\"Not Found\"}\n",
     "output_type": "error",
     "traceback": [
      "\u001B[0;31m---------------------------------------------------------------------------\u001B[0m",
      "\u001B[0;31mApiException\u001B[0m                              Traceback (most recent call last)",
      "\u001B[0;32m<ipython-input-24-d4de746635ec>\u001B[0m in \u001B[0;36m<module>\u001B[0;34m\u001B[0m\n\u001B[0;32m----> 1\u001B[0;31m \u001B[0mimg\u001B[0m \u001B[0;34m=\u001B[0m \u001B[0mapi\u001B[0m\u001B[0;34m.\u001B[0m\u001B[0mget_image\u001B[0m\u001B[0;34m(\u001B[0m\u001B[0mid\u001B[0m\u001B[0;34m=\u001B[0m\u001B[0;34m\"38882\"\u001B[0m\u001B[0;34m)\u001B[0m\u001B[0;34m\u001B[0m\u001B[0;34m\u001B[0m\u001B[0m\n\u001B[0m",
      "\u001B[0;32m~/PycharmProjects/Fatima/venv/lib/python3.6/site-packages/shutterstock_api/api/images_api.py\u001B[0m in \u001B[0;36mget_image\u001B[0;34m(self, id, **kwargs)\u001B[0m\n\u001B[1;32m    862\u001B[0m             \u001B[0;32mreturn\u001B[0m \u001B[0mself\u001B[0m\u001B[0;34m.\u001B[0m\u001B[0mget_image_with_http_info\u001B[0m\u001B[0;34m(\u001B[0m\u001B[0mid\u001B[0m\u001B[0;34m,\u001B[0m \u001B[0;34m**\u001B[0m\u001B[0mkwargs\u001B[0m\u001B[0;34m)\u001B[0m  \u001B[0;31m# noqa: E501\u001B[0m\u001B[0;34m\u001B[0m\u001B[0;34m\u001B[0m\u001B[0m\n\u001B[1;32m    863\u001B[0m         \u001B[0;32melse\u001B[0m\u001B[0;34m:\u001B[0m\u001B[0;34m\u001B[0m\u001B[0;34m\u001B[0m\u001B[0m\n\u001B[0;32m--> 864\u001B[0;31m             \u001B[0;34m(\u001B[0m\u001B[0mdata\u001B[0m\u001B[0;34m)\u001B[0m \u001B[0;34m=\u001B[0m \u001B[0mself\u001B[0m\u001B[0;34m.\u001B[0m\u001B[0mget_image_with_http_info\u001B[0m\u001B[0;34m(\u001B[0m\u001B[0mid\u001B[0m\u001B[0;34m,\u001B[0m \u001B[0;34m**\u001B[0m\u001B[0mkwargs\u001B[0m\u001B[0;34m)\u001B[0m  \u001B[0;31m# noqa: E501\u001B[0m\u001B[0;34m\u001B[0m\u001B[0;34m\u001B[0m\u001B[0m\n\u001B[0m\u001B[1;32m    865\u001B[0m             \u001B[0;32mreturn\u001B[0m \u001B[0mdata\u001B[0m\u001B[0;34m\u001B[0m\u001B[0;34m\u001B[0m\u001B[0m\n\u001B[1;32m    866\u001B[0m \u001B[0;34m\u001B[0m\u001B[0m\n",
      "\u001B[0;32m~/PycharmProjects/Fatima/venv/lib/python3.6/site-packages/shutterstock_api/api/images_api.py\u001B[0m in \u001B[0;36mget_image_with_http_info\u001B[0;34m(self, id, **kwargs)\u001B[0m\n\u001B[1;32m    939\u001B[0m             \u001B[0m_preload_content\u001B[0m\u001B[0;34m=\u001B[0m\u001B[0mparams\u001B[0m\u001B[0;34m.\u001B[0m\u001B[0mget\u001B[0m\u001B[0;34m(\u001B[0m\u001B[0;34m'_preload_content'\u001B[0m\u001B[0;34m,\u001B[0m \u001B[0;32mTrue\u001B[0m\u001B[0;34m)\u001B[0m\u001B[0;34m,\u001B[0m\u001B[0;34m\u001B[0m\u001B[0;34m\u001B[0m\u001B[0m\n\u001B[1;32m    940\u001B[0m             \u001B[0m_request_timeout\u001B[0m\u001B[0;34m=\u001B[0m\u001B[0mparams\u001B[0m\u001B[0;34m.\u001B[0m\u001B[0mget\u001B[0m\u001B[0;34m(\u001B[0m\u001B[0;34m'_request_timeout'\u001B[0m\u001B[0;34m)\u001B[0m\u001B[0;34m,\u001B[0m\u001B[0;34m\u001B[0m\u001B[0;34m\u001B[0m\u001B[0m\n\u001B[0;32m--> 941\u001B[0;31m             collection_formats=collection_formats)\n\u001B[0m\u001B[1;32m    942\u001B[0m \u001B[0;34m\u001B[0m\u001B[0m\n\u001B[1;32m    943\u001B[0m     \u001B[0;32mdef\u001B[0m \u001B[0mget_image_categories\u001B[0m\u001B[0;34m(\u001B[0m\u001B[0mself\u001B[0m\u001B[0;34m,\u001B[0m \u001B[0;34m**\u001B[0m\u001B[0mkwargs\u001B[0m\u001B[0;34m)\u001B[0m\u001B[0;34m:\u001B[0m  \u001B[0;31m# noqa: E501\u001B[0m\u001B[0;34m\u001B[0m\u001B[0;34m\u001B[0m\u001B[0m\n",
      "\u001B[0;32m~/PycharmProjects/Fatima/venv/lib/python3.6/site-packages/shutterstock_api/api_client.py\u001B[0m in \u001B[0;36mcall_api\u001B[0;34m(self, resource_path, method, path_params, query_params, header_params, body, post_params, files, response_type, auth_settings, async_req, _return_http_data_only, collection_formats, _preload_content, _request_timeout)\u001B[0m\n\u001B[1;32m    320\u001B[0m                                    \u001B[0mresponse_type\u001B[0m\u001B[0;34m,\u001B[0m \u001B[0mauth_settings\u001B[0m\u001B[0;34m,\u001B[0m\u001B[0;34m\u001B[0m\u001B[0;34m\u001B[0m\u001B[0m\n\u001B[1;32m    321\u001B[0m                                    \u001B[0m_return_http_data_only\u001B[0m\u001B[0;34m,\u001B[0m \u001B[0mcollection_formats\u001B[0m\u001B[0;34m,\u001B[0m\u001B[0;34m\u001B[0m\u001B[0;34m\u001B[0m\u001B[0m\n\u001B[0;32m--> 322\u001B[0;31m                                    _preload_content, _request_timeout)\n\u001B[0m\u001B[1;32m    323\u001B[0m         \u001B[0;32melse\u001B[0m\u001B[0;34m:\u001B[0m\u001B[0;34m\u001B[0m\u001B[0;34m\u001B[0m\u001B[0m\n\u001B[1;32m    324\u001B[0m             thread = self.pool.apply_async(self.__call_api, (resource_path,\n",
      "\u001B[0;32m~/PycharmProjects/Fatima/venv/lib/python3.6/site-packages/shutterstock_api/api_client.py\u001B[0m in \u001B[0;36m__call_api\u001B[0;34m(self, resource_path, method, path_params, query_params, header_params, body, post_params, files, response_type, auth_settings, _return_http_data_only, collection_formats, _preload_content, _request_timeout)\u001B[0m\n\u001B[1;32m    151\u001B[0m             \u001B[0mpost_params\u001B[0m\u001B[0;34m=\u001B[0m\u001B[0mpost_params\u001B[0m\u001B[0;34m,\u001B[0m \u001B[0mbody\u001B[0m\u001B[0;34m=\u001B[0m\u001B[0mbody\u001B[0m\u001B[0;34m,\u001B[0m\u001B[0;34m\u001B[0m\u001B[0;34m\u001B[0m\u001B[0m\n\u001B[1;32m    152\u001B[0m             \u001B[0m_preload_content\u001B[0m\u001B[0;34m=\u001B[0m\u001B[0m_preload_content\u001B[0m\u001B[0;34m,\u001B[0m\u001B[0;34m\u001B[0m\u001B[0;34m\u001B[0m\u001B[0m\n\u001B[0;32m--> 153\u001B[0;31m             _request_timeout=_request_timeout)\n\u001B[0m\u001B[1;32m    154\u001B[0m \u001B[0;34m\u001B[0m\u001B[0m\n\u001B[1;32m    155\u001B[0m         \u001B[0mself\u001B[0m\u001B[0;34m.\u001B[0m\u001B[0mlast_response\u001B[0m \u001B[0;34m=\u001B[0m \u001B[0mresponse_data\u001B[0m\u001B[0;34m\u001B[0m\u001B[0;34m\u001B[0m\u001B[0m\n",
      "\u001B[0;32m~/PycharmProjects/Fatima/venv/lib/python3.6/site-packages/shutterstock_api/api_client.py\u001B[0m in \u001B[0;36mrequest\u001B[0;34m(self, method, url, query_params, headers, post_params, body, _preload_content, _request_timeout)\u001B[0m\n\u001B[1;32m    341\u001B[0m                                         \u001B[0m_preload_content\u001B[0m\u001B[0;34m=\u001B[0m\u001B[0m_preload_content\u001B[0m\u001B[0;34m,\u001B[0m\u001B[0;34m\u001B[0m\u001B[0;34m\u001B[0m\u001B[0m\n\u001B[1;32m    342\u001B[0m                                         \u001B[0m_request_timeout\u001B[0m\u001B[0;34m=\u001B[0m\u001B[0m_request_timeout\u001B[0m\u001B[0;34m,\u001B[0m\u001B[0;34m\u001B[0m\u001B[0;34m\u001B[0m\u001B[0m\n\u001B[0;32m--> 343\u001B[0;31m                                         headers=headers)\n\u001B[0m\u001B[1;32m    344\u001B[0m         \u001B[0;32melif\u001B[0m \u001B[0mmethod\u001B[0m \u001B[0;34m==\u001B[0m \u001B[0;34m\"HEAD\"\u001B[0m\u001B[0;34m:\u001B[0m\u001B[0;34m\u001B[0m\u001B[0;34m\u001B[0m\u001B[0m\n\u001B[1;32m    345\u001B[0m             return self.rest_client.HEAD(url,\n",
      "\u001B[0;32m~/PycharmProjects/Fatima/venv/lib/python3.6/site-packages/shutterstock_api/rest.py\u001B[0m in \u001B[0;36mGET\u001B[0;34m(self, url, headers, query_params, _preload_content, _request_timeout)\u001B[0m\n\u001B[1;32m    236\u001B[0m                             \u001B[0m_preload_content\u001B[0m\u001B[0;34m=\u001B[0m\u001B[0m_preload_content\u001B[0m\u001B[0;34m,\u001B[0m\u001B[0;34m\u001B[0m\u001B[0;34m\u001B[0m\u001B[0m\n\u001B[1;32m    237\u001B[0m                             \u001B[0m_request_timeout\u001B[0m\u001B[0;34m=\u001B[0m\u001B[0m_request_timeout\u001B[0m\u001B[0;34m,\u001B[0m\u001B[0;34m\u001B[0m\u001B[0;34m\u001B[0m\u001B[0m\n\u001B[0;32m--> 238\u001B[0;31m                             query_params=query_params)\n\u001B[0m\u001B[1;32m    239\u001B[0m \u001B[0;34m\u001B[0m\u001B[0m\n\u001B[1;32m    240\u001B[0m     def HEAD(self, url, headers=None, query_params=None, _preload_content=True,\n",
      "\u001B[0;32m~/PycharmProjects/Fatima/venv/lib/python3.6/site-packages/shutterstock_api/rest.py\u001B[0m in \u001B[0;36mrequest\u001B[0;34m(self, method, url, query_params, headers, body, post_params, _preload_content, _request_timeout)\u001B[0m\n\u001B[1;32m    226\u001B[0m \u001B[0;34m\u001B[0m\u001B[0m\n\u001B[1;32m    227\u001B[0m         \u001B[0;32mif\u001B[0m \u001B[0;32mnot\u001B[0m \u001B[0;36m200\u001B[0m \u001B[0;34m<=\u001B[0m \u001B[0mr\u001B[0m\u001B[0;34m.\u001B[0m\u001B[0mstatus\u001B[0m \u001B[0;34m<=\u001B[0m \u001B[0;36m299\u001B[0m\u001B[0;34m:\u001B[0m\u001B[0;34m\u001B[0m\u001B[0;34m\u001B[0m\u001B[0m\n\u001B[0;32m--> 228\u001B[0;31m             \u001B[0;32mraise\u001B[0m \u001B[0mApiException\u001B[0m\u001B[0;34m(\u001B[0m\u001B[0mhttp_resp\u001B[0m\u001B[0;34m=\u001B[0m\u001B[0mr\u001B[0m\u001B[0;34m)\u001B[0m\u001B[0;34m\u001B[0m\u001B[0;34m\u001B[0m\u001B[0m\n\u001B[0m\u001B[1;32m    229\u001B[0m \u001B[0;34m\u001B[0m\u001B[0m\n\u001B[1;32m    230\u001B[0m         \u001B[0;32mreturn\u001B[0m \u001B[0mr\u001B[0m\u001B[0;34m\u001B[0m\u001B[0;34m\u001B[0m\u001B[0m\n",
      "\u001B[0;31mApiException\u001B[0m: (404)\nReason: Not Found\nHTTP response headers: HTTPHeaderDict({'Date': 'Fri, 09 Oct 2020 01:10:32 GMT', 'Content-Type': 'application/json; charset=utf8', 'Content-Length': '23', 'Connection': 'keep-alive', 'cache-control': 'no-cache', 'x-shutterstock-app-version': 'apitwo', 'x-shutterstock-resource': '/v2/images/:id', 'x-end-user-client-id': 'ZuIrW2JouRTPdhV4XE44GXeXUpF2DDZc', 'x-end-user-request-id': 'rrt-021d87f99c91a7c33-c-ea-18488-19444965-3', 'x-request-id': 'rrt-021d87f99c91a7c33-c-ea-18488-19444965-3', 'x-end-user-user-id': '282816453'})\nHTTP response body: {\"message\":\"Not Found\"}\n"
     ]
    }
   ],
   "source": [
    "img = api.get_image(id=\"38882\")"
   ],
   "metadata": {
    "collapsed": false,
    "pycharm": {
     "name": "#%%\n"
    }
   }
  },
  {
   "cell_type": "code",
   "execution_count": 40,
   "outputs": [],
   "source": [
    "results = api.search_images(category=\"paintings\")"
   ],
   "metadata": {
    "collapsed": false,
    "pycharm": {
     "name": "#%%\n"
    }
   }
  },
  {
   "cell_type": "code",
   "execution_count": 41,
   "outputs": [
    {
     "data": {
      "text/plain": "{'added_date': None,\n 'affiliate_url': None,\n 'aspect': 1.4989,\n 'assets': {'huge_jpg': None,\n            'huge_thumb': {'height': 260,\n                           'url': 'https://image.shutterstock.com/image-photo/houses-suburb-summer-north-america-260nw-1514333600.jpg',\n                           'width': 390},\n            'huge_tiff': None,\n            'large_thumb': {'height': 100,\n                            'url': 'https://thumb1.shutterstock.com/thumb_large/228988681/1514333600/stock-photo-houses-in-suburb-at-summer-in-the-north-america-luxury-houses-with-nice-landscape-1514333600.jpg',\n                            'width': 150},\n            'medium_jpg': None,\n            'preview': {'height': 300,\n                        'url': 'https://image.shutterstock.com/display_pic_with_logo/228988681/1514333600/stock-photo-houses-in-suburb-at-summer-in-the-north-america-luxury-houses-with-nice-landscape-1514333600.jpg',\n                        'width': 450},\n            'preview_1000': {'height': 667,\n                             'url': 'https://ak.picdn.net/shutterstock/photos/1514333600/watermark_1000/0b92f2e9f7a35ee58d118f57095e9958/preview_1000-1514333600.jpg',\n                             'width': 1000},\n            'preview_1500': {'height': 1001,\n                             'url': 'https://image.shutterstock.com/z/stock-photo-houses-in-suburb-at-summer-in-the-north-america-luxury-houses-with-nice-landscape-1514333600.jpg',\n                             'width': 1500},\n            'small_jpg': None,\n            'small_thumb': {'height': 67,\n                            'url': 'https://thumb1.shutterstock.com/thumb_small/228988681/1514333600/stock-photo-houses-in-suburb-at-summer-in-the-north-america-luxury-houses-with-nice-landscape-1514333600.jpg',\n                            'width': 100},\n            'supersize_jpg': None,\n            'supersize_tiff': None,\n            'vector_eps': None},\n 'categories': None,\n 'contributor': {'id': '228988681'},\n 'description': 'Houses in suburb at Summer in the north America. Luxury '\n                'houses with nice landscape.',\n 'has_model_release': False,\n 'has_property_release': None,\n 'id': '1514333600',\n 'image_type': 'photo',\n 'is_adult': None,\n 'is_editorial': None,\n 'is_illustration': None,\n 'keywords': None,\n 'media_type': 'image',\n 'model_releases': None,\n 'models': None,\n 'releases': None,\n 'url': None}"
     },
     "execution_count": 41,
     "metadata": {},
     "output_type": "execute_result"
    }
   ],
   "source": [
    "results.data[3]"
   ],
   "metadata": {
    "collapsed": false,
    "pycharm": {
     "name": "#%%\n"
    }
   }
  },
  {
   "cell_type": "code",
   "execution_count": 43,
   "outputs": [
    {
     "ename": "ApiException",
     "evalue": "(400)\nReason: Bad Request\nHTTP response headers: HTTPHeaderDict({'Date': 'Fri, 09 Oct 2020 01:34:18 GMT', 'Content-Type': 'application/json; charset=utf8', 'Content-Length': '2035', 'Connection': 'keep-alive', 'cache-control': 'no-cache', 'x-shutterstock-app-version': 'apitwo', 'x-shutterstock-resource': '/v2/images', 'x-end-user-client-id': 'ZuIrW2JouRTPdhV4XE44GXeXUpF2DDZc', 'x-end-user-request-id': 'rrt-0926a470e2e5edbcf-b-ea-18749-20030877-4', 'x-request-id': 'rrt-0926a470e2e5edbcf-b-ea-18749-20030877-4', 'x-end-user-user-id': '282816453'})\nHTTP response body: {\"message\":\"Validation failed\",\"errors\":[{\"code\":\"VALIDATION_ID\",\"message\":\"Invalid id\",\"data\":\"{'id': '17'}\",\"path\":\"$.query.id[0]\"},{\"code\":\"VALIDATION_ID\",\"message\":\"Invalid id\",\"data\":\"{'id': '54537493'}\",\"path\":\"$.query.id[1]\"},{\"code\":\"VALIDATION_ID\",\"message\":\"Invalid id\",\"data\":\"{'id': '644559838'}\",\"path\":\"$.query.id[2]\"},{\"code\":\"VALIDATION_ID\",\"message\":\"Invalid id\",\"data\":\"{'id': '642198808'}\",\"path\":\"$.query.id[3]\"},{\"code\":\"VALIDATION_ID\",\"message\":\"Invalid id\",\"data\":\"{'id': '625864232'}\",\"path\":\"$.query.id[4]\"},{\"code\":\"VALIDATION_ID\",\"message\":\"Invalid id\",\"data\":\"{'id': '753599443'}\",\"path\":\"$.query.id[5]\"},{\"code\":\"VALIDATION_ID\",\"message\":\"Invalid id\",\"data\":\"{'id': '753033625'}\",\"path\":\"$.query.id[6]\"},{\"code\":\"VALIDATION_ID\",\"message\":\"Invalid id\",\"data\":\"{'id': '9626596'}\",\"path\":\"$.query.id[7]\"},{\"code\":\"VALIDATION_ID\",\"message\":\"Invalid id\",\"data\":\"{'id': '218856724'}\",\"path\":\"$.query.id[8]\"},{\"code\":\"VALIDATION_ID\",\"message\":\"Invalid id\",\"data\":\"{'id': '590271863'}\",\"path\":\"$.query.id[9]\"},{\"code\":\"VALIDATION_ID\",\"message\":\"Invalid id\",\"data\":\"{'id': '578469637'}\",\"path\":\"$.query.id[10]\"},{\"code\":\"VALIDATION_ID\",\"message\":\"Invalid id\",\"data\":\"{'id': '582965530'}\",\"path\":\"$.query.id[11]\"},{\"code\":\"VALIDATION_ID\",\"message\":\"Invalid id\",\"data\":\"{'id': '687617656'}\",\"path\":\"$.query.id[12]\"},{\"code\":\"VALIDATION_ID\",\"message\":\"Invalid id\",\"data\":\"{'id': '353449025'}\",\"path\":\"$.query.id[13]\"},{\"code\":\"VALIDATION_ID\",\"message\":\"Invalid id\",\"data\":\"{'id': '679373581'}\",\"path\":\"$.query.id[14]\"},{\"code\":\"VALIDATION_ID\",\"message\":\"Invalid id\",\"data\":\"{'id': '47'}\",\"path\":\"$.query.id[15]\"},{\"code\":\"VALIDATION_ID\",\"message\":\"Invalid id\",\"data\":\"{'id': '420650866'}\",\"path\":\"$.query.id[16]\"},{\"code\":\"VALIDATION_ID\",\"message\":\"Invalid id\",\"data\":\"{'id': '308593475'}\",\"path\":\"$.query.id[17]\"},{\"code\":\"VALIDATION_ID\",\"message\":\"Invalid id\",\"data\":\"{'id': '644748340'}\",\"path\":\"$.query.id[18]\"},{\"code\":\"VALIDATION_ID\",\"message\":\"Invalid id\",\"data\":\"{'id': '578467924'}\",\"path\":\"$.query.id[19]\"}]}\n",
     "output_type": "error",
     "traceback": [
      "\u001B[0;31m---------------------------------------------------------------------------\u001B[0m",
      "\u001B[0;31mApiException\u001B[0m                              Traceback (most recent call last)",
      "\u001B[0;32m<ipython-input-43-a78482c450bc>\u001B[0m in \u001B[0;36m<module>\u001B[0;34m\u001B[0m\n\u001B[0;32m----> 1\u001B[0;31m \u001B[0mapi\u001B[0m\u001B[0;34m.\u001B[0m\u001B[0mget_image_list\u001B[0m\u001B[0;34m(\u001B[0m\u001B[0mimgs\u001B[0m\u001B[0;34m.\u001B[0m\u001B[0mdata\u001B[0m\u001B[0;34m)\u001B[0m\u001B[0;34m\u001B[0m\u001B[0;34m\u001B[0m\u001B[0m\n\u001B[0m",
      "\u001B[0;32m~/PycharmProjects/Fatima/venv/lib/python3.6/site-packages/shutterstock_api/api/images_api.py\u001B[0m in \u001B[0;36mget_image_list\u001B[0;34m(self, id, **kwargs)\u001B[0m\n\u001B[1;32m   1161\u001B[0m             \u001B[0;32mreturn\u001B[0m \u001B[0mself\u001B[0m\u001B[0;34m.\u001B[0m\u001B[0mget_image_list_with_http_info\u001B[0m\u001B[0;34m(\u001B[0m\u001B[0mid\u001B[0m\u001B[0;34m,\u001B[0m \u001B[0;34m**\u001B[0m\u001B[0mkwargs\u001B[0m\u001B[0;34m)\u001B[0m  \u001B[0;31m# noqa: E501\u001B[0m\u001B[0;34m\u001B[0m\u001B[0;34m\u001B[0m\u001B[0m\n\u001B[1;32m   1162\u001B[0m         \u001B[0;32melse\u001B[0m\u001B[0;34m:\u001B[0m\u001B[0;34m\u001B[0m\u001B[0;34m\u001B[0m\u001B[0m\n\u001B[0;32m-> 1163\u001B[0;31m             \u001B[0;34m(\u001B[0m\u001B[0mdata\u001B[0m\u001B[0;34m)\u001B[0m \u001B[0;34m=\u001B[0m \u001B[0mself\u001B[0m\u001B[0;34m.\u001B[0m\u001B[0mget_image_list_with_http_info\u001B[0m\u001B[0;34m(\u001B[0m\u001B[0mid\u001B[0m\u001B[0;34m,\u001B[0m \u001B[0;34m**\u001B[0m\u001B[0mkwargs\u001B[0m\u001B[0;34m)\u001B[0m  \u001B[0;31m# noqa: E501\u001B[0m\u001B[0;34m\u001B[0m\u001B[0;34m\u001B[0m\u001B[0m\n\u001B[0m\u001B[1;32m   1164\u001B[0m             \u001B[0;32mreturn\u001B[0m \u001B[0mdata\u001B[0m\u001B[0;34m\u001B[0m\u001B[0;34m\u001B[0m\u001B[0m\n\u001B[1;32m   1165\u001B[0m \u001B[0;34m\u001B[0m\u001B[0m\n",
      "\u001B[0;32m~/PycharmProjects/Fatima/venv/lib/python3.6/site-packages/shutterstock_api/api/images_api.py\u001B[0m in \u001B[0;36mget_image_list_with_http_info\u001B[0;34m(self, id, **kwargs)\u001B[0m\n\u001B[1;32m   1239\u001B[0m             \u001B[0m_preload_content\u001B[0m\u001B[0;34m=\u001B[0m\u001B[0mparams\u001B[0m\u001B[0;34m.\u001B[0m\u001B[0mget\u001B[0m\u001B[0;34m(\u001B[0m\u001B[0;34m'_preload_content'\u001B[0m\u001B[0;34m,\u001B[0m \u001B[0;32mTrue\u001B[0m\u001B[0;34m)\u001B[0m\u001B[0;34m,\u001B[0m\u001B[0;34m\u001B[0m\u001B[0;34m\u001B[0m\u001B[0m\n\u001B[1;32m   1240\u001B[0m             \u001B[0m_request_timeout\u001B[0m\u001B[0;34m=\u001B[0m\u001B[0mparams\u001B[0m\u001B[0;34m.\u001B[0m\u001B[0mget\u001B[0m\u001B[0;34m(\u001B[0m\u001B[0;34m'_request_timeout'\u001B[0m\u001B[0;34m)\u001B[0m\u001B[0;34m,\u001B[0m\u001B[0;34m\u001B[0m\u001B[0;34m\u001B[0m\u001B[0m\n\u001B[0;32m-> 1241\u001B[0;31m             collection_formats=collection_formats)\n\u001B[0m\u001B[1;32m   1242\u001B[0m \u001B[0;34m\u001B[0m\u001B[0m\n\u001B[1;32m   1243\u001B[0m     \u001B[0;32mdef\u001B[0m \u001B[0mget_image_recommendations\u001B[0m\u001B[0;34m(\u001B[0m\u001B[0mself\u001B[0m\u001B[0;34m,\u001B[0m \u001B[0mid\u001B[0m\u001B[0;34m,\u001B[0m \u001B[0;34m**\u001B[0m\u001B[0mkwargs\u001B[0m\u001B[0;34m)\u001B[0m\u001B[0;34m:\u001B[0m  \u001B[0;31m# noqa: E501\u001B[0m\u001B[0;34m\u001B[0m\u001B[0;34m\u001B[0m\u001B[0m\n",
      "\u001B[0;32m~/PycharmProjects/Fatima/venv/lib/python3.6/site-packages/shutterstock_api/api_client.py\u001B[0m in \u001B[0;36mcall_api\u001B[0;34m(self, resource_path, method, path_params, query_params, header_params, body, post_params, files, response_type, auth_settings, async_req, _return_http_data_only, collection_formats, _preload_content, _request_timeout)\u001B[0m\n\u001B[1;32m    320\u001B[0m                                    \u001B[0mresponse_type\u001B[0m\u001B[0;34m,\u001B[0m \u001B[0mauth_settings\u001B[0m\u001B[0;34m,\u001B[0m\u001B[0;34m\u001B[0m\u001B[0;34m\u001B[0m\u001B[0m\n\u001B[1;32m    321\u001B[0m                                    \u001B[0m_return_http_data_only\u001B[0m\u001B[0;34m,\u001B[0m \u001B[0mcollection_formats\u001B[0m\u001B[0;34m,\u001B[0m\u001B[0;34m\u001B[0m\u001B[0;34m\u001B[0m\u001B[0m\n\u001B[0;32m--> 322\u001B[0;31m                                    _preload_content, _request_timeout)\n\u001B[0m\u001B[1;32m    323\u001B[0m         \u001B[0;32melse\u001B[0m\u001B[0;34m:\u001B[0m\u001B[0;34m\u001B[0m\u001B[0;34m\u001B[0m\u001B[0m\n\u001B[1;32m    324\u001B[0m             thread = self.pool.apply_async(self.__call_api, (resource_path,\n",
      "\u001B[0;32m~/PycharmProjects/Fatima/venv/lib/python3.6/site-packages/shutterstock_api/api_client.py\u001B[0m in \u001B[0;36m__call_api\u001B[0;34m(self, resource_path, method, path_params, query_params, header_params, body, post_params, files, response_type, auth_settings, _return_http_data_only, collection_formats, _preload_content, _request_timeout)\u001B[0m\n\u001B[1;32m    151\u001B[0m             \u001B[0mpost_params\u001B[0m\u001B[0;34m=\u001B[0m\u001B[0mpost_params\u001B[0m\u001B[0;34m,\u001B[0m \u001B[0mbody\u001B[0m\u001B[0;34m=\u001B[0m\u001B[0mbody\u001B[0m\u001B[0;34m,\u001B[0m\u001B[0;34m\u001B[0m\u001B[0;34m\u001B[0m\u001B[0m\n\u001B[1;32m    152\u001B[0m             \u001B[0m_preload_content\u001B[0m\u001B[0;34m=\u001B[0m\u001B[0m_preload_content\u001B[0m\u001B[0;34m,\u001B[0m\u001B[0;34m\u001B[0m\u001B[0;34m\u001B[0m\u001B[0m\n\u001B[0;32m--> 153\u001B[0;31m             _request_timeout=_request_timeout)\n\u001B[0m\u001B[1;32m    154\u001B[0m \u001B[0;34m\u001B[0m\u001B[0m\n\u001B[1;32m    155\u001B[0m         \u001B[0mself\u001B[0m\u001B[0;34m.\u001B[0m\u001B[0mlast_response\u001B[0m \u001B[0;34m=\u001B[0m \u001B[0mresponse_data\u001B[0m\u001B[0;34m\u001B[0m\u001B[0;34m\u001B[0m\u001B[0m\n",
      "\u001B[0;32m~/PycharmProjects/Fatima/venv/lib/python3.6/site-packages/shutterstock_api/api_client.py\u001B[0m in \u001B[0;36mrequest\u001B[0;34m(self, method, url, query_params, headers, post_params, body, _preload_content, _request_timeout)\u001B[0m\n\u001B[1;32m    341\u001B[0m                                         \u001B[0m_preload_content\u001B[0m\u001B[0;34m=\u001B[0m\u001B[0m_preload_content\u001B[0m\u001B[0;34m,\u001B[0m\u001B[0;34m\u001B[0m\u001B[0;34m\u001B[0m\u001B[0m\n\u001B[1;32m    342\u001B[0m                                         \u001B[0m_request_timeout\u001B[0m\u001B[0;34m=\u001B[0m\u001B[0m_request_timeout\u001B[0m\u001B[0;34m,\u001B[0m\u001B[0;34m\u001B[0m\u001B[0;34m\u001B[0m\u001B[0m\n\u001B[0;32m--> 343\u001B[0;31m                                         headers=headers)\n\u001B[0m\u001B[1;32m    344\u001B[0m         \u001B[0;32melif\u001B[0m \u001B[0mmethod\u001B[0m \u001B[0;34m==\u001B[0m \u001B[0;34m\"HEAD\"\u001B[0m\u001B[0;34m:\u001B[0m\u001B[0;34m\u001B[0m\u001B[0;34m\u001B[0m\u001B[0m\n\u001B[1;32m    345\u001B[0m             return self.rest_client.HEAD(url,\n",
      "\u001B[0;32m~/PycharmProjects/Fatima/venv/lib/python3.6/site-packages/shutterstock_api/rest.py\u001B[0m in \u001B[0;36mGET\u001B[0;34m(self, url, headers, query_params, _preload_content, _request_timeout)\u001B[0m\n\u001B[1;32m    236\u001B[0m                             \u001B[0m_preload_content\u001B[0m\u001B[0;34m=\u001B[0m\u001B[0m_preload_content\u001B[0m\u001B[0;34m,\u001B[0m\u001B[0;34m\u001B[0m\u001B[0;34m\u001B[0m\u001B[0m\n\u001B[1;32m    237\u001B[0m                             \u001B[0m_request_timeout\u001B[0m\u001B[0;34m=\u001B[0m\u001B[0m_request_timeout\u001B[0m\u001B[0;34m,\u001B[0m\u001B[0;34m\u001B[0m\u001B[0;34m\u001B[0m\u001B[0m\n\u001B[0;32m--> 238\u001B[0;31m                             query_params=query_params)\n\u001B[0m\u001B[1;32m    239\u001B[0m \u001B[0;34m\u001B[0m\u001B[0m\n\u001B[1;32m    240\u001B[0m     def HEAD(self, url, headers=None, query_params=None, _preload_content=True,\n",
      "\u001B[0;32m~/PycharmProjects/Fatima/venv/lib/python3.6/site-packages/shutterstock_api/rest.py\u001B[0m in \u001B[0;36mrequest\u001B[0;34m(self, method, url, query_params, headers, body, post_params, _preload_content, _request_timeout)\u001B[0m\n\u001B[1;32m    226\u001B[0m \u001B[0;34m\u001B[0m\u001B[0m\n\u001B[1;32m    227\u001B[0m         \u001B[0;32mif\u001B[0m \u001B[0;32mnot\u001B[0m \u001B[0;36m200\u001B[0m \u001B[0;34m<=\u001B[0m \u001B[0mr\u001B[0m\u001B[0;34m.\u001B[0m\u001B[0mstatus\u001B[0m \u001B[0;34m<=\u001B[0m \u001B[0;36m299\u001B[0m\u001B[0;34m:\u001B[0m\u001B[0;34m\u001B[0m\u001B[0;34m\u001B[0m\u001B[0m\n\u001B[0;32m--> 228\u001B[0;31m             \u001B[0;32mraise\u001B[0m \u001B[0mApiException\u001B[0m\u001B[0;34m(\u001B[0m\u001B[0mhttp_resp\u001B[0m\u001B[0;34m=\u001B[0m\u001B[0mr\u001B[0m\u001B[0;34m)\u001B[0m\u001B[0;34m\u001B[0m\u001B[0;34m\u001B[0m\u001B[0m\n\u001B[0m\u001B[1;32m    229\u001B[0m \u001B[0;34m\u001B[0m\u001B[0m\n\u001B[1;32m    230\u001B[0m         \u001B[0;32mreturn\u001B[0m \u001B[0mr\u001B[0m\u001B[0;34m\u001B[0m\u001B[0;34m\u001B[0m\u001B[0m\n",
      "\u001B[0;31mApiException\u001B[0m: (400)\nReason: Bad Request\nHTTP response headers: HTTPHeaderDict({'Date': 'Fri, 09 Oct 2020 01:34:18 GMT', 'Content-Type': 'application/json; charset=utf8', 'Content-Length': '2035', 'Connection': 'keep-alive', 'cache-control': 'no-cache', 'x-shutterstock-app-version': 'apitwo', 'x-shutterstock-resource': '/v2/images', 'x-end-user-client-id': 'ZuIrW2JouRTPdhV4XE44GXeXUpF2DDZc', 'x-end-user-request-id': 'rrt-0926a470e2e5edbcf-b-ea-18749-20030877-4', 'x-request-id': 'rrt-0926a470e2e5edbcf-b-ea-18749-20030877-4', 'x-end-user-user-id': '282816453'})\nHTTP response body: {\"message\":\"Validation failed\",\"errors\":[{\"code\":\"VALIDATION_ID\",\"message\":\"Invalid id\",\"data\":\"{'id': '17'}\",\"path\":\"$.query.id[0]\"},{\"code\":\"VALIDATION_ID\",\"message\":\"Invalid id\",\"data\":\"{'id': '54537493'}\",\"path\":\"$.query.id[1]\"},{\"code\":\"VALIDATION_ID\",\"message\":\"Invalid id\",\"data\":\"{'id': '644559838'}\",\"path\":\"$.query.id[2]\"},{\"code\":\"VALIDATION_ID\",\"message\":\"Invalid id\",\"data\":\"{'id': '642198808'}\",\"path\":\"$.query.id[3]\"},{\"code\":\"VALIDATION_ID\",\"message\":\"Invalid id\",\"data\":\"{'id': '625864232'}\",\"path\":\"$.query.id[4]\"},{\"code\":\"VALIDATION_ID\",\"message\":\"Invalid id\",\"data\":\"{'id': '753599443'}\",\"path\":\"$.query.id[5]\"},{\"code\":\"VALIDATION_ID\",\"message\":\"Invalid id\",\"data\":\"{'id': '753033625'}\",\"path\":\"$.query.id[6]\"},{\"code\":\"VALIDATION_ID\",\"message\":\"Invalid id\",\"data\":\"{'id': '9626596'}\",\"path\":\"$.query.id[7]\"},{\"code\":\"VALIDATION_ID\",\"message\":\"Invalid id\",\"data\":\"{'id': '218856724'}\",\"path\":\"$.query.id[8]\"},{\"code\":\"VALIDATION_ID\",\"message\":\"Invalid id\",\"data\":\"{'id': '590271863'}\",\"path\":\"$.query.id[9]\"},{\"code\":\"VALIDATION_ID\",\"message\":\"Invalid id\",\"data\":\"{'id': '578469637'}\",\"path\":\"$.query.id[10]\"},{\"code\":\"VALIDATION_ID\",\"message\":\"Invalid id\",\"data\":\"{'id': '582965530'}\",\"path\":\"$.query.id[11]\"},{\"code\":\"VALIDATION_ID\",\"message\":\"Invalid id\",\"data\":\"{'id': '687617656'}\",\"path\":\"$.query.id[12]\"},{\"code\":\"VALIDATION_ID\",\"message\":\"Invalid id\",\"data\":\"{'id': '353449025'}\",\"path\":\"$.query.id[13]\"},{\"code\":\"VALIDATION_ID\",\"message\":\"Invalid id\",\"data\":\"{'id': '679373581'}\",\"path\":\"$.query.id[14]\"},{\"code\":\"VALIDATION_ID\",\"message\":\"Invalid id\",\"data\":\"{'id': '47'}\",\"path\":\"$.query.id[15]\"},{\"code\":\"VALIDATION_ID\",\"message\":\"Invalid id\",\"data\":\"{'id': '420650866'}\",\"path\":\"$.query.id[16]\"},{\"code\":\"VALIDATION_ID\",\"message\":\"Invalid id\",\"data\":\"{'id': '308593475'}\",\"path\":\"$.query.id[17]\"},{\"code\":\"VALIDATION_ID\",\"message\":\"Invalid id\",\"data\":\"{'id': '644748340'}\",\"path\":\"$.query.id[18]\"},{\"code\":\"VALIDATION_ID\",\"message\":\"Invalid id\",\"data\":\"{'id': '578467924'}\",\"path\":\"$.query.id[19]\"}]}\n"
     ]
    }
   ],
   "source": [
    "api.get_image_list(imgs.data)"
   ],
   "metadata": {
    "collapsed": false,
    "pycharm": {
     "name": "#%%\n"
    }
   }
  },
  {
   "cell_type": "code",
   "execution_count": null,
   "outputs": [],
   "source": [],
   "metadata": {
    "collapsed": false,
    "pycharm": {
     "name": "#%%\n"
    }
   }
  }
 ],
 "metadata": {
  "kernelspec": {
   "display_name": "Python 3",
   "language": "python",
   "name": "python3"
  },
  "language_info": {
   "codemirror_mode": {
    "name": "ipython",
    "version": 3
   },
   "file_extension": ".py",
   "mimetype": "text/x-python",
   "name": "python",
   "nbconvert_exporter": "python",
   "pygments_lexer": "ipython3",
   "version": "3.6.9"
  }
 },
 "nbformat": 4,
 "nbformat_minor": 4
}